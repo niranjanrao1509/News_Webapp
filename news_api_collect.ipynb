{
 "cells": [
  {
   "cell_type": "code",
   "execution_count": 1,
   "metadata": {},
   "outputs": [],
   "source": [
    "from __future__ import print_function\n",
    "import requests\n",
    "import pandas as pd\n",
    "from datetime import datetime\n",
    "from tqdm import tqdm, tqdm_notebook\n",
    "from matplotlib import pyplot as plt"
   ]
  },
  {
   "cell_type": "code",
   "execution_count": 2,
   "metadata": {},
   "outputs": [],
   "source": [
    "def getSources():\n",
    "    source_url = 'https://newsapi.org/v1/sources?language=en'\n",
    "    response = requests.get(source_url).json()\n",
    "    sources = []\n",
    "    for source in response['sources']:\n",
    "        sources.append(source['id'])\n",
    "    return sources"
   ]
  },
  {
   "cell_type": "code",
   "execution_count": 3,
   "metadata": {},
   "outputs": [
    {
     "name": "stdout",
     "output_type": "stream",
     "text": [
      "number of sources : 52\n",
      "sources : abc-news-au, al-jazeera-english, ars-technica, associated-press, bbc-news, bbc-sport, bloomberg, breitbart-news, business-insider, business-insider-uk, buzzfeed, cnbc, cnn, engadget, entertainment-weekly, espn, espn-cric-info, financial-times, football-italia, fortune, four-four-two, fox-sports, google-news, hacker-news, ign, independent, mashable, mtv-news, mtv-news-uk, national-geographic, new-scientist, newsweek, new-york-magazine, nfl-news, polygon, recode, reddit-r-all, reuters, talksport, techcrunch, techradar, the-hindu, the-huffington-post, the-lad-bible, the-next-web, the-sport-bible, the-times-of-india, the-verge, the-wall-street-journal, the-washington-post, time, usa-today\n"
     ]
    }
   ],
   "source": [
    "sources = getSources()\n",
    "print('number of sources :', len(sources))\n",
    "print('sources :', ', '.join(sources))"
   ]
  },
  {
   "cell_type": "code",
   "execution_count": null,
   "metadata": {},
   "outputs": [],
   "source": [
    "f0aa6c641c1e4be4bc589d4cce60a597"
   ]
  },
  {
   "cell_type": "code",
   "execution_count": 4,
   "metadata": {},
   "outputs": [],
   "source": [
    "def mapping():\n",
    "    d = {}\n",
    "    response = requests.get('https://newsapi.org/v1/sources?language=en')\n",
    "    response = response.json()\n",
    "    for s in response['sources']:\n",
    "        d[s['id']] = s['category']\n",
    "    return d"
   ]
  },
  {
   "cell_type": "code",
   "execution_count": 5,
   "metadata": {},
   "outputs": [
    {
     "name": "stdout",
     "output_type": "stream",
     "text": [
      "category of reuters: general\n",
      "category of techcrunch: technology\n"
     ]
    }
   ],
   "source": [
    "m = mapping()\n",
    "print('category of reuters:', m['reuters'])\n",
    "print('category of techcrunch:', m['techcrunch'])"
   ]
  },
  {
   "cell_type": "code",
   "execution_count": 6,
   "metadata": {},
   "outputs": [],
   "source": [
    "news = pd.read_csv(\"news.csv\")"
   ]
  },
  {
   "cell_type": "code",
   "execution_count": 10,
   "metadata": {},
   "outputs": [
    {
     "data": {
      "text/plain": [
       "array(['general', 'technology', 'sports', 'business', 'entertainment'],\n",
       "      dtype=object)"
      ]
     },
     "execution_count": 10,
     "metadata": {},
     "output_type": "execute_result"
    }
   ],
   "source": [
    "news['category'].unique()"
   ]
  },
  {
   "cell_type": "code",
   "execution_count": 8,
   "metadata": {},
   "outputs": [
    {
     "data": {
      "text/html": [
       "<div>\n",
       "<style scoped>\n",
       "    .dataframe tbody tr th:only-of-type {\n",
       "        vertical-align: middle;\n",
       "    }\n",
       "\n",
       "    .dataframe tbody tr th {\n",
       "        vertical-align: top;\n",
       "    }\n",
       "\n",
       "    .dataframe thead th {\n",
       "        text-align: right;\n",
       "    }\n",
       "</style>\n",
       "<table border=\"1\" class=\"dataframe\">\n",
       "  <thead>\n",
       "    <tr style=\"text-align: right;\">\n",
       "      <th></th>\n",
       "      <th>author</th>\n",
       "      <th>title</th>\n",
       "      <th>description</th>\n",
       "      <th>url</th>\n",
       "      <th>urlToImage</th>\n",
       "      <th>publishedAt</th>\n",
       "      <th>source</th>\n",
       "      <th>category</th>\n",
       "      <th>scraping_date</th>\n",
       "    </tr>\n",
       "  </thead>\n",
       "  <tbody>\n",
       "    <tr>\n",
       "      <th>0</th>\n",
       "      <td>https://www.abc.net.au/news/matthew-doran/5511636</td>\n",
       "      <td>AFP finds no evidence document used by Angus T...</td>\n",
       "      <td>The Australian Federal Police finds no evidenc...</td>\n",
       "      <td>http://www.abc.net.au/news/2020-05-12/no-evide...</td>\n",
       "      <td>https://www.abc.net.au/cm/rimage/11640468-16x9...</td>\n",
       "      <td>2020-05-12T08:23:18Z</td>\n",
       "      <td>abc-news-au</td>\n",
       "      <td>general</td>\n",
       "      <td>2020-05-12 15:28:23.621677</td>\n",
       "    </tr>\n",
       "    <tr>\n",
       "      <th>1</th>\n",
       "      <td>https://www.abc.net.au/news/david-lipson/7849048</td>\n",
       "      <td>New York's coronavirus outbreak struck as Visa...</td>\n",
       "      <td>Visaya Hoffie, battling for her life following...</td>\n",
       "      <td>http://www.abc.net.au/news/2020-05-12/coronavi...</td>\n",
       "      <td>https://www.abc.net.au/cm/rimage/12226050-16x9...</td>\n",
       "      <td>2020-05-12T02:11:52Z</td>\n",
       "      <td>abc-news-au</td>\n",
       "      <td>general</td>\n",
       "      <td>2020-05-12 15:28:23.621677</td>\n",
       "    </tr>\n",
       "    <tr>\n",
       "      <th>2</th>\n",
       "      <td>https://www.abc.net.au/news/kath-sullivan/4929...</td>\n",
       "      <td>Red-meat processors have beef sales to China s...</td>\n",
       "      <td>Australia's red meat industry could be the lat...</td>\n",
       "      <td>http://www.abc.net.au/news/rural/2020-05-12/ch...</td>\n",
       "      <td>https://www.abc.net.au/cm/rimage/6900764-16x9-...</td>\n",
       "      <td>2020-05-12T02:19:48Z</td>\n",
       "      <td>abc-news-au</td>\n",
       "      <td>general</td>\n",
       "      <td>2020-05-12 15:28:23.621677</td>\n",
       "    </tr>\n",
       "    <tr>\n",
       "      <th>3</th>\n",
       "      <td>https://www.abc.net.au/news/karen-percy/5358026</td>\n",
       "      <td>Bupa aged care ordered to pay $6 million for s...</td>\n",
       "      <td>Aged care provider Bupa is fined $6 million fo...</td>\n",
       "      <td>http://www.abc.net.au/news/2020-05-12/bupa-age...</td>\n",
       "      <td>https://www.abc.net.au/cm/rimage/4451712-16x9-...</td>\n",
       "      <td>2020-05-12T07:42:25Z</td>\n",
       "      <td>abc-news-au</td>\n",
       "      <td>general</td>\n",
       "      <td>2020-05-12 15:28:23.621677</td>\n",
       "    </tr>\n",
       "    <tr>\n",
       "      <th>4</th>\n",
       "      <td>https://www.abc.net.au/news/peter-ryan/167104</td>\n",
       "      <td>Alan Jones' retirement will spark mourning or ...</td>\n",
       "      <td>Conservative radio king Alan Jones' influence ...</td>\n",
       "      <td>http://www.abc.net.au/news/2020-05-12/alan-jon...</td>\n",
       "      <td>https://www.abc.net.au/cm/rimage/4290904-16x9-...</td>\n",
       "      <td>2020-05-12T03:33:04Z</td>\n",
       "      <td>abc-news-au</td>\n",
       "      <td>general</td>\n",
       "      <td>2020-05-12 15:28:23.621677</td>\n",
       "    </tr>\n",
       "  </tbody>\n",
       "</table>\n",
       "</div>"
      ],
      "text/plain": [
       "                                              author  \\\n",
       "0  https://www.abc.net.au/news/matthew-doran/5511636   \n",
       "1   https://www.abc.net.au/news/david-lipson/7849048   \n",
       "2  https://www.abc.net.au/news/kath-sullivan/4929...   \n",
       "3    https://www.abc.net.au/news/karen-percy/5358026   \n",
       "4      https://www.abc.net.au/news/peter-ryan/167104   \n",
       "\n",
       "                                               title  \\\n",
       "0  AFP finds no evidence document used by Angus T...   \n",
       "1  New York's coronavirus outbreak struck as Visa...   \n",
       "2  Red-meat processors have beef sales to China s...   \n",
       "3  Bupa aged care ordered to pay $6 million for s...   \n",
       "4  Alan Jones' retirement will spark mourning or ...   \n",
       "\n",
       "                                         description  \\\n",
       "0  The Australian Federal Police finds no evidenc...   \n",
       "1  Visaya Hoffie, battling for her life following...   \n",
       "2  Australia's red meat industry could be the lat...   \n",
       "3  Aged care provider Bupa is fined $6 million fo...   \n",
       "4  Conservative radio king Alan Jones' influence ...   \n",
       "\n",
       "                                                 url  \\\n",
       "0  http://www.abc.net.au/news/2020-05-12/no-evide...   \n",
       "1  http://www.abc.net.au/news/2020-05-12/coronavi...   \n",
       "2  http://www.abc.net.au/news/rural/2020-05-12/ch...   \n",
       "3  http://www.abc.net.au/news/2020-05-12/bupa-age...   \n",
       "4  http://www.abc.net.au/news/2020-05-12/alan-jon...   \n",
       "\n",
       "                                          urlToImage           publishedAt  \\\n",
       "0  https://www.abc.net.au/cm/rimage/11640468-16x9...  2020-05-12T08:23:18Z   \n",
       "1  https://www.abc.net.au/cm/rimage/12226050-16x9...  2020-05-12T02:11:52Z   \n",
       "2  https://www.abc.net.au/cm/rimage/6900764-16x9-...  2020-05-12T02:19:48Z   \n",
       "3  https://www.abc.net.au/cm/rimage/4451712-16x9-...  2020-05-12T07:42:25Z   \n",
       "4  https://www.abc.net.au/cm/rimage/4290904-16x9-...  2020-05-12T03:33:04Z   \n",
       "\n",
       "        source category               scraping_date  \n",
       "0  abc-news-au  general  2020-05-12 15:28:23.621677  \n",
       "1  abc-news-au  general  2020-05-12 15:28:23.621677  \n",
       "2  abc-news-au  general  2020-05-12 15:28:23.621677  \n",
       "3  abc-news-au  general  2020-05-12 15:28:23.621677  \n",
       "4  abc-news-au  general  2020-05-12 15:28:23.621677  "
      ]
     },
     "execution_count": 8,
     "metadata": {},
     "output_type": "execute_result"
    }
   ],
   "source": [
    "news.head()"
   ]
  },
  {
   "cell_type": "code",
   "execution_count": null,
   "metadata": {},
   "outputs": [],
   "source": [
    "def category(source, m):\n",
    "    try:\n",
    "        return m[source]\n",
    "    except:\n",
    "        return 'NC'\n",
    "\n",
    "def getDailyNews():\n",
    "    sources = getSources()\n",
    "    key = 'c12a5c07a7bd42edbf54d59aca007a54'\n",
    "    url = 'https://newsapi.org/v1/articles?source={0}&sortBy={1}&apiKey={2}'\n",
    "    responses = []\n",
    "    for i, source in tqdm_notebook(enumerate(sources), total=len(sources)):\n",
    "        \n",
    "        try:\n",
    "            u = url.format(source, 'top', key)\n",
    "        except:\n",
    "            u = url.format(source, 'latest', key)\n",
    "        \n",
    "        response = requests.get(u)\n",
    "        r = response.json()\n",
    "        try:\n",
    "            for article in r['articles']:\n",
    "                article['source'] = source\n",
    "            responses.append(r)\n",
    "        except:\n",
    "            print('Rate limit exceeded ... please wait and retry in 6 hours')\n",
    "            return None\n",
    "                \n",
    "    articles = list(map(lambda r: r['articles'], responses))\n",
    "    articles = list(functools.reduce(lambda x,y: x+y, articles))\n",
    "    \n",
    "    news = pd.DataFrame(articles)\n",
    "    news = news.dropna()\n",
    "    news = news.drop_duplicates()\n",
    "    news.reset_index(inplace=True, drop=True)\n",
    "    d = mapping()\n",
    "    news['category'] = news['source'].map(lambda s: category(s, d))\n",
    "    news['scraping_date'] = datetime.now()\n",
    "\n",
    "    try:\n",
    "        aux = pd.read_csv('news.csv')\n",
    "        aux = aux.append(news)\n",
    "        aux = aux.drop_duplicates('url')\n",
    "        aux.reset_index(inplace=True, drop=True)\n",
    "        aux.to_csv('news.csv', encoding='utf-8', index=False)\n",
    "    except:\n",
    "        news.to_csv('news.csv', index=False, encoding='utf-8')\n",
    "        \n",
    "    print('Done')\n",
    "    \n",
    "if __name__=='__main__':\n",
    "    getDailyNews()"
   ]
  },
  {
   "cell_type": "code",
   "execution_count": 13,
   "metadata": {},
   "outputs": [],
   "source": [
    "import functools"
   ]
  },
  {
   "cell_type": "code",
   "execution_count": null,
   "metadata": {},
   "outputs": [],
   "source": []
  },
  {
   "cell_type": "code",
   "execution_count": null,
   "metadata": {},
   "outputs": [],
   "source": []
  },
  {
   "cell_type": "code",
   "execution_count": null,
   "metadata": {},
   "outputs": [],
   "source": []
  },
  {
   "cell_type": "code",
   "execution_count": null,
   "metadata": {},
   "outputs": [],
   "source": []
  },
  {
   "cell_type": "code",
   "execution_count": null,
   "metadata": {},
   "outputs": [],
   "source": []
  },
  {
   "cell_type": "code",
   "execution_count": null,
   "metadata": {},
   "outputs": [],
   "source": []
  },
  {
   "cell_type": "code",
   "execution_count": null,
   "metadata": {},
   "outputs": [],
   "source": []
  }
 ],
 "metadata": {
  "kernelspec": {
   "display_name": "Python 3",
   "language": "python",
   "name": "python3"
  },
  "language_info": {
   "codemirror_mode": {
    "name": "ipython",
    "version": 3
   },
   "file_extension": ".py",
   "mimetype": "text/x-python",
   "name": "python",
   "nbconvert_exporter": "python",
   "pygments_lexer": "ipython3",
   "version": "3.7.7"
  }
 },
 "nbformat": 4,
 "nbformat_minor": 4
}
